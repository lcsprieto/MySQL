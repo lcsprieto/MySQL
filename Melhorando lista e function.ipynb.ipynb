{
 "cells": [
  {
   "cell_type": "code",
   "execution_count": 13,
   "id": "b59eaaa4",
   "metadata": {},
   "outputs": [
    {
     "name": "stdout",
     "output_type": "stream",
     "text": [
      "Ordem conforme entrada de dados:\n",
      "1 - Miguel\n",
      "2 - Leandro\n",
      "3 - Lucas\n",
      "Ordem crescente:\n",
      "1 - Leandro\n",
      "2 - Lucas\n",
      "3 - Miguel\n",
      "Ordem decrescente:\n",
      "1 - Miguel\n",
      "2 - Lucas\n",
      "3 - Leandro\n"
     ]
    }
   ],
   "source": [
    "lista = ['Miguel', 'Leandro', 'Lucas']\n",
    "cont = 0\n",
    "print('Ordem conforme entrada de dados:')\n",
    "for nome in lista:\n",
    "    cont += 1\n",
    "    print('{} - {}'.format(cont,nome))\n",
    "lista.sort() #ordem crescente\n",
    "cont = 0\n",
    "print('Ordem crescente:')\n",
    "for nome in lista:\n",
    "    cont += 1\n",
    "    print('{} - {}'.format(cont,nome))\n",
    "lista.sort(reverse = True) #ordem decrescente\n",
    "cont = 0\n",
    "print('Ordem decrescente:')\n",
    "for nome in lista:\n",
    "    cont += 1\n",
    "    print('{} - {}'.format(cont,nome))"
   ]
  },
  {
   "cell_type": "code",
   "execution_count": 24,
   "id": "db65b5a6",
   "metadata": {},
   "outputs": [
    {
     "name": "stdout",
     "output_type": "stream",
     "text": [
      "De qual forma você deseja imprimir os nomes? 1- Ordem de entrada | 2 - Ordem alfabética | 3 - Ordem inversa: 1\n",
      "Ordem conforme entrada de dados:\n",
      "1 - Miguel\n",
      "2 - Leandro\n",
      "3 - Lucas\n"
     ]
    }
   ],
   "source": [
    "def entrada():\n",
    "    lista = ['Miguel', 'Leandro', 'Lucas']\n",
    "    escolha = int(input('De qual forma você deseja imprimir os nomes? 1- Ordem de entrada | 2 - Ordem alfabética | 3 - Ordem inversa: '))\n",
    "    if(escolha == 1):\n",
    "        escolha1(lista)\n",
    "    elif(escolha == 2):\n",
    "        escolha2(lista)\n",
    "    elif(escolha == 3):\n",
    "        escolha3(lista)\n",
    "    else:\n",
    "        otaescolha()\n",
    "def escolha1(lista):\n",
    "    cont = 0\n",
    "    print('Ordem conforme entrada de dados:')\n",
    "    for nome in lista:\n",
    "        cont += 1\n",
    "        print('{} - {}'.format(cont,nome))\n",
    "def escolha2(lista):\n",
    "\n",
    "    lista.sort() #ordem crescente\n",
    "    cont = 0\n",
    "    print('Ordem crescente:')\n",
    "    for nome in lista:\n",
    "        cont += 1\n",
    "        print('{} - {}'.format(cont,nome))\n",
    "def escolha3(lista):\n",
    "\n",
    "    lista.sort(reverse = True) #ordem decrescente\n",
    "    cont = 0\n",
    "    print('Ordem decrescente:')\n",
    "    for nome in lista:\n",
    "        cont += 1\n",
    "        print('{} - {}'.format(cont,nome))\n",
    "def otaescolha():\n",
    "    print('Escolha um número entre 1 e 3')\n",
    "    entrada()\n",
    "entrada()"
   ]
  },
  {
   "cell_type": "code",
   "execution_count": 11,
   "id": "7b2c680d",
   "metadata": {},
   "outputs": [
    {
     "name": "stdout",
     "output_type": "stream",
     "text": [
      "De qual forma você deseja imprimir os nomes? 1- Ordem de entrada | 2 - Ordem alfabética | 3 - Ordem inversa: 1\n",
      "Ordem conforme entrada de dados:\n",
      "1 - Miguel\n",
      "2 - Leandro\n",
      "3 - Lucas\n"
     ]
    }
   ],
   "source": [
    "def entrada():\n",
    "    lista = ['Miguel', 'Leandro', 'Lucas']\n",
    "    escolha = int(input('De qual forma você deseja imprimir os nomes? 1- Ordem de entrada | 2 - Ordem alfabética | 3 - Ordem inversa: '))\n",
    "    if(escolha == 1):\n",
    "        escolha1()\n",
    "        processamento(lista,escolha)\n",
    "    elif(escolha == 2):\n",
    "        escolha2(lista)\n",
    "        processamento(lista,escolha)\n",
    "    elif(escolha == 3):\n",
    "        escolha3(lista)\n",
    "        processamento(lista,escolha)\n",
    "    else:\n",
    "        otaescolha()\n",
    "def processamento(lista,escolha):\n",
    "    cont = 0\n",
    "    for nome in lista:\n",
    "        cont += 1\n",
    "        print('{} - {}'.format(cont,nome))\n",
    "        \n",
    "def escolha1():\n",
    "    print('Ordem conforme entrada de dados:')\n",
    "\n",
    "def escolha2(lista):\n",
    "    lista.sort() #ordem crescente\n",
    "    print('Ordem crescente:')\n",
    "    \n",
    "def escolha3(lista):\n",
    "    lista.sort(reverse = True) #ordem decrescente\n",
    "    print('Ordem decrescente:')\n",
    "    \n",
    "def otaescolha():\n",
    "    print('Escolha um número entre 1 e 3')\n",
    "    entrada()\n",
    "entrada()"
   ]
  },
  {
   "cell_type": "code",
   "execution_count": 15,
   "id": "f3ade6c5",
   "metadata": {},
   "outputs": [
    {
     "name": "stdout",
     "output_type": "stream",
     "text": [
      "De qual forma você deseja imprimir os nomes? 1- Ordem de entrada | 2 - Ordem alfabética | 3 - Ordem inversa: 2\n",
      "Ordem crescente:\n",
      "1 - Leandro\n",
      "2 - Lucas\n",
      "3 - Miguel\n"
     ]
    }
   ],
   "source": [
    "def entrada():\n",
    "    lista = ['Miguel', 'Leandro', 'Lucas']\n",
    "    escolha = int(input('De qual forma você deseja imprimir os nomes? 1- Ordem de entrada | 2 - Ordem alfabética | 3 - Ordem inversa: '))\n",
    "    if(escolha == 1):\n",
    "        escolha1()\n",
    "        processamento(lista,escolha)\n",
    "    elif(escolha == 2):\n",
    "        escolha2(lista)\n",
    "        processamento(lista,escolha)\n",
    "    elif(escolha == 3):\n",
    "        escolha3(lista)\n",
    "        processamento(lista,escolha)\n",
    "    else:\n",
    "        otaescolha()\n",
    "def processamento(lista,escolha):\n",
    "    for cont,nome in enumerate(lista):\n",
    "        print('{} - {}'.format(cont+1,nome))\n",
    "        \n",
    "def escolha1():\n",
    "    print('Ordem conforme entrada de dados:')\n",
    "\n",
    "def escolha2(lista):\n",
    "    lista.sort() #ordem crescente\n",
    "    print('Ordem crescente:')\n",
    "    \n",
    "def escolha3(lista):\n",
    "    lista.sort(reverse = True) #ordem decrescente\n",
    "    print('Ordem decrescente:')\n",
    "    \n",
    "def otaescolha():\n",
    "    print('Escolha um número entre 1 e 3')\n",
    "    entrada()\n",
    "entrada()"
   ]
  },
  {
   "cell_type": "code",
   "execution_count": null,
   "id": "99543550",
   "metadata": {},
   "outputs": [],
   "source": []
  }
 ],
 "metadata": {
  "kernelspec": {
   "display_name": "Python 3 (ipykernel)",
   "language": "python",
   "name": "python3"
  },
  "language_info": {
   "codemirror_mode": {
    "name": "ipython",
    "version": 3
   },
   "file_extension": ".py",
   "mimetype": "text/x-python",
   "name": "python",
   "nbconvert_exporter": "python",
   "pygments_lexer": "ipython3",
   "version": "3.9.12"
  }
 },
 "nbformat": 4,
 "nbformat_minor": 5
}
