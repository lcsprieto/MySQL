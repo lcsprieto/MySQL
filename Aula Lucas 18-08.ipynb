{
 "cells": [
  {
   "cell_type": "code",
   "execution_count": 9,
   "id": "34fb7c13",
   "metadata": {},
   "outputs": [
    {
     "name": "stdout",
     "output_type": "stream",
     "text": [
      "['Miguel', 'Lucas', 'Leandro']\n",
      "['Leandro', 'Lucas', 'Miguel']\n"
     ]
    }
   ],
   "source": [
    "lista = ['Miguel', 'Lucas', 'Leandro']\n",
    "print(lista)\n",
    "lista.sort()\n",
    "print(lista)"
   ]
  },
  {
   "cell_type": "code",
   "execution_count": 11,
   "id": "f7404773",
   "metadata": {},
   "outputs": [
    {
     "name": "stdout",
     "output_type": "stream",
     "text": [
      "1 - Leandro\n",
      "2 - Lucas\n",
      "3 - Miguel\n"
     ]
    }
   ],
   "source": [
    "c = 0\n",
    "for item in lista:\n",
    "    c += 1\n",
    "    print('{} - {}'.format(c,item))"
   ]
  },
  {
   "cell_type": "code",
   "execution_count": 19,
   "id": "8f6c5ae7",
   "metadata": {},
   "outputs": [
    {
     "name": "stdout",
     "output_type": "stream",
     "text": [
      "1 - Leandro\n",
      "2 - Lucas\n",
      "3 - Miguel\n"
     ]
    }
   ],
   "source": [
    "for ind,nome in enumerate(lista):\n",
    "    print('{} - {}'.format(ind+1, nome))"
   ]
  },
  {
   "cell_type": "code",
   "execution_count": 24,
   "id": "c25db9d9",
   "metadata": {},
   "outputs": [
    {
     "name": "stdout",
     "output_type": "stream",
     "text": [
      "['Miguel', 'Lucas', 'Leandro']\n"
     ]
    }
   ],
   "source": [
    "lista.sort(reverse=True)\n",
    "print(lista)"
   ]
  },
  {
   "cell_type": "code",
   "execution_count": 28,
   "id": "40449c23",
   "metadata": {},
   "outputs": [
    {
     "name": "stdout",
     "output_type": "stream",
     "text": [
      "3 - Miguel\n",
      "2 - Lucas\n",
      "1 - Leandro\n"
     ]
    }
   ],
   "source": [
    "for ind,nome in enumerate(lista):\n",
    "    print('{} - {}'.format(len(lista)-ind, nome))"
   ]
  },
  {
   "cell_type": "markdown",
   "id": "bf72f4d6",
   "metadata": {},
   "source": [
    "Conteúdo: Break / Continue / Pass"
   ]
  },
  {
   "cell_type": "code",
   "execution_count": 40,
   "id": "0b252bdb",
   "metadata": {},
   "outputs": [],
   "source": [
    "producao = [100,150,1500,2000,120,105]"
   ]
  },
  {
   "cell_type": "code",
   "execution_count": 41,
   "id": "c1dca631",
   "metadata": {},
   "outputs": [
    {
     "name": "stdout",
     "output_type": "stream",
     "text": [
      "A indústria não ganha bônus esse semestre!\n"
     ]
    }
   ],
   "source": [
    "meta = 110\n",
    "\n",
    "for qtd in producao:\n",
    "    if (qtd < meta):\n",
    "        print('A indústria não ganha bônus esse semestre!')\n",
    "        break"
   ]
  },
  {
   "cell_type": "code",
   "execution_count": 50,
   "id": "68b9d868",
   "metadata": {},
   "outputs": [
    {
     "name": "stdout",
     "output_type": "stream",
     "text": [
      "2 - 150\n",
      "3 - 1500\n",
      "4 - 2000\n"
     ]
    }
   ],
   "source": [
    "meta = 130\n",
    "\n",
    "for mes,qtd in enumerate(producao):\n",
    "    if (qtd < meta):\n",
    "        continue\n",
    "    print('{} - {}'.format(mes+1,qtd))"
   ]
  },
  {
   "cell_type": "code",
   "execution_count": 55,
   "id": "02468d88",
   "metadata": {},
   "outputs": [
    {
     "name": "stdout",
     "output_type": "stream",
     "text": [
      "2 - 150\n",
      "passei no final do for\n",
      "3 - 1500\n",
      "passei no final do for\n",
      "4 - 2000\n",
      "passei no final do for\n"
     ]
    }
   ],
   "source": [
    "meta = 130\n",
    "\n",
    "for mes,qtd in enumerate(producao):\n",
    "    if (qtd < meta):\n",
    "        continue\n",
    "    else:\n",
    "        print('{} - {}'.format(mes+1,qtd))\n",
    "    print('passei no final do for')"
   ]
  },
  {
   "cell_type": "code",
   "execution_count": 56,
   "id": "84cf3da7",
   "metadata": {},
   "outputs": [
    {
     "name": "stdout",
     "output_type": "stream",
     "text": [
      "passei no final do for\n",
      "2 - 150\n",
      "passei no final do for\n",
      "3 - 1500\n",
      "passei no final do for\n",
      "4 - 2000\n",
      "passei no final do for\n",
      "passei no final do for\n",
      "passei no final do for\n"
     ]
    }
   ],
   "source": [
    "meta = 130\n",
    "\n",
    "for mes,qtd in enumerate(producao):\n",
    "    if (qtd < meta):\n",
    "        pass\n",
    "    else:\n",
    "        print('{} - {}'.format(mes+1,qtd))\n",
    "    print('passei no final do for')"
   ]
  },
  {
   "cell_type": "code",
   "execution_count": 61,
   "id": "1e6b03ff",
   "metadata": {},
   "outputs": [
    {
     "name": "stdout",
     "output_type": "stream",
     "text": [
      "No mês 1 não ganhou bônus!\n",
      "passei no final do for\n",
      "No mês 2 ganhou bônus!\n",
      "passei no final do for\n",
      "No mês 3 ganhou bônus!\n",
      "passei no final do for\n",
      "No mês 4 ganhou bônus!\n",
      "passei no final do for\n",
      "No mês 5 não ganhou bônus!\n",
      "passei no final do for\n",
      "No mês 6 não ganhou bônus!\n",
      "passei no final do for\n"
     ]
    }
   ],
   "source": [
    "meta = 130\n",
    "\n",
    "for mes,qtd in enumerate(producao):\n",
    "    if (qtd < meta):\n",
    "        print('No mês {} não ganhou bônus!'.format(mes+1))\n",
    "    else:\n",
    "        print('No mês {} ganhou bônus!'.format(mes+1))\n",
    "    print('passei no final do for')"
   ]
  },
  {
   "cell_type": "markdown",
   "id": "3dcea918",
   "metadata": {},
   "source": [
    "Lista vs Tupla\n",
    "\n",
    "Lista ela é mutável ou similar a variável\n",
    "Tupla ela não é mutável ou similar a constante"
   ]
  },
  {
   "cell_type": "code",
   "execution_count": 68,
   "id": "fa20e064",
   "metadata": {},
   "outputs": [
    {
     "name": "stdout",
     "output_type": "stream",
     "text": [
      "['Leandro', '31/03/1985', 'Masculino']\n",
      "['Leandro Vasconcelos dos Reis', '31/03/1985', 'Masculino']\n",
      "Leandro Vasconcelos dos Reis\n",
      "31/03/1985\n",
      "Masculino\n"
     ]
    }
   ],
   "source": [
    "dados = ['Leandro','31/03/1985','Masculino']\n",
    "print(dados)\n",
    "dados[0] = 'Leandro Vasconcelos dos Reis'\n",
    "print(dados)\n",
    "\n",
    "nome,dt_nasc,sexo = dados\n",
    "\n",
    "print(nome)\n",
    "print(dt_nasc)\n",
    "print(sexo)"
   ]
  },
  {
   "cell_type": "code",
   "execution_count": 76,
   "id": "801cdbdb",
   "metadata": {},
   "outputs": [
    {
     "name": "stdout",
     "output_type": "stream",
     "text": [
      "('Leandro', '31/03/1985', 'Masculino')\n",
      "\n",
      "Leandro\n",
      "31/03/1985\n",
      "Masculino\n",
      "\n",
      "Nome:      Leandro\n",
      "Nasc:   31/03/1985\n",
      "Sexo:    Masculino\n"
     ]
    }
   ],
   "source": [
    "dados = ('Leandro','31/03/1985','Masculino')\n",
    "print(dados)\n",
    "print()\n",
    "\n",
    "nome,dt_nasc,sexo = dados\n",
    "\n",
    "print(nome)\n",
    "print(dt_nasc)\n",
    "print(sexo)\n",
    "print()\n",
    "print('Nome: {:>12}\\nNasc: {:>12}\\nSexo: {:>12}'.format(nome, dt_nasc,sexo))"
   ]
  },
  {
   "cell_type": "markdown",
   "id": "aeb6005d",
   "metadata": {},
   "source": [
    "Arquivos - Leitura e Escrita de .txt"
   ]
  },
  {
   "cell_type": "code",
   "execution_count": 2,
   "id": "73ee3471",
   "metadata": {},
   "outputs": [
    {
     "name": "stdout",
     "output_type": "stream",
     "text": [
      "Bala = R$ 10,00\n",
      "Pirulito = R$ 15,00\n"
     ]
    }
   ],
   "source": [
    "arquivo = open('lucros.txt')\n",
    "print(arquivo.read())\n",
    "arquivo.close()"
   ]
  },
  {
   "cell_type": "code",
   "execution_count": 4,
   "id": "12076e2f",
   "metadata": {},
   "outputs": [
    {
     "name": "stdout",
     "output_type": "stream",
     "text": [
      "Bala = R$ 10,00\n",
      "Pirulito = R$ 15,00\n"
     ]
    }
   ],
   "source": [
    "arquivo = open('lucros.txt')\n",
    "leitura = arquivo.read()\n",
    "arquivo.close()\n",
    "print(leitura)"
   ]
  },
  {
   "cell_type": "code",
   "execution_count": 18,
   "id": "c9f1b998",
   "metadata": {},
   "outputs": [
    {
     "name": "stdout",
     "output_type": "stream",
     "text": [
      "Bala = R$ 10,00\n",
      "Pirulito = R$ 15,00\n"
     ]
    }
   ],
   "source": [
    "arquivo = open('lucros.txt')\n",
    "linha1 = arquivo.readline()\n",
    "linha2 = arquivo.readline()\n",
    "arquivo.close()\n",
    "linha1 = linha1.strip()\n",
    "linha2 = linha2.strip()\n",
    "print(linha1)\n",
    "print(linha2)"
   ]
  },
  {
   "cell_type": "code",
   "execution_count": 30,
   "id": "6a14d326",
   "metadata": {},
   "outputs": [
    {
     "name": "stdout",
     "output_type": "stream",
     "text": [
      "['Bala = R$ 10,00\\n', 'Pirulito = R$ 15,00']\n",
      "\n",
      "Bala = R$ 10,00\n",
      "Pirulito = R$ 15,00\n"
     ]
    }
   ],
   "source": [
    "listanova = []\n",
    "arquivo = open('lucros.txt')\n",
    "listaLinhas = arquivo.readlines()\n",
    "arquivo.close()\n",
    "\n",
    "print(listaLinhas)\n",
    "for item in listaLinhas:\n",
    "    listanova.append(item.strip())\n",
    "print()\n",
    "print('\\n'.join(listanova))"
   ]
  },
  {
   "cell_type": "code",
   "execution_count": 31,
   "id": "8e9e2276",
   "metadata": {},
   "outputs": [
    {
     "name": "stdout",
     "output_type": "stream",
     "text": [
      "Entre com o nome do arquivo: lucros.txt\n",
      "Bala = R$ 10,00\n",
      "Pirulito = R$ 15,00\n"
     ]
    }
   ],
   "source": [
    "nomearq = input('Entre com o nome do arquivo: ')\n",
    "arquivo = open(nomearq)\n",
    "arq = arquivo.read()\n",
    "arquivo.close()\n",
    "print(arq)"
   ]
  },
  {
   "cell_type": "code",
   "execution_count": 35,
   "id": "b1240a52",
   "metadata": {},
   "outputs": [],
   "source": [
    "arquivo = open('Despesas.txt','w')\n",
    "arquivo.write('Café = R$ 18,00')\n",
    "arquivo.close()\n",
    "arquivo = open('Despesas.txt','w')\n",
    "arquivo.write('\\nChocolate = R$ 10,00')\n",
    "arquivo.close()"
   ]
  },
  {
   "cell_type": "code",
   "execution_count": 38,
   "id": "47b771e2",
   "metadata": {},
   "outputs": [],
   "source": [
    "arquivo = open('Despesas2.txt','w')\n",
    "arquivo.write('Café = R$ 18,00\\n')\n",
    "arquivo.close()\n",
    "arquivo = open('Despesas2.txt','a')\n",
    "arquivo.write('Chocolate = R$ 10,00')\n",
    "arquivo.close()"
   ]
  },
  {
   "cell_type": "code",
   "execution_count": 39,
   "id": "29e7759f",
   "metadata": {},
   "outputs": [],
   "source": [
    "extra = 'Bolo = R$ 8,00\\n'\n",
    "arquivo = open('Despesas3.txt','w')\n",
    "arquivo.write('Café = R$ 18,00\\n')\n",
    "arquivo.write('Chocolate = R$ 10,00\\n')\n",
    "arquivo.write(extra)\n",
    "arquivo.close()"
   ]
  }
 ],
 "metadata": {
  "kernelspec": {
   "display_name": "Python 3 (ipykernel)",
   "language": "python",
   "name": "python3"
  },
  "language_info": {
   "codemirror_mode": {
    "name": "ipython",
    "version": 3
   },
   "file_extension": ".py",
   "mimetype": "text/x-python",
   "name": "python",
   "nbconvert_exporter": "python",
   "pygments_lexer": "ipython3",
   "version": "3.9.12"
  }
 },
 "nbformat": 4,
 "nbformat_minor": 5
}
